{
  "nbformat": 4,
  "nbformat_minor": 0,
  "metadata": {
    "colab": {
      "provenance": []
    },
    "kernelspec": {
      "name": "python3",
      "display_name": "Python 3"
    },
    "language_info": {
      "name": "python"
    }
  },
  "cells": [
    {
      "cell_type": "code",
      "source": [
        "from sklearn.datasets import make_moons\n",
        "X, y = make_moons(n_samples=400, noise=0.1, random_state=3)"
      ],
      "metadata": {
        "id": "uvpnyepaFveM"
      },
      "execution_count": null,
      "outputs": []
    },
    {
      "cell_type": "code",
      "source": [
        "from sklearn.model_selection import train_test_split\n",
        "X_train, X_valid, y_train, y_valid = train_test_split(\n",
        "    X, y, test_size=0.25, random_state=42\n",
        ")"
      ],
      "metadata": {
        "id": "cepeQgO8F57k"
      },
      "execution_count": null,
      "outputs": []
    },
    {
      "cell_type": "code",
      "execution_count": null,
      "metadata": {
        "id": "Kqd61-z_FsIk"
      },
      "outputs": [],
      "source": [
        "from sklearn.linear_model import LinearRegression\n",
        "lin = LinearRegression().fit(X_train, y_train)\n",
        "\n",
        "from sklearn.ensemble import GradientBoostingRegressor\n",
        "gbr = GradientBoostingRegressor(random_state=42).fit(X_train, y_train)"
      ]
    },
    {
      "cell_type": "code",
      "source": [
        "idx = 5\n",
        "x0 = X_valid[idx].reshape(1, -1)\n",
        "\n",
        "y_pred_lin = lin.predict(x0)[0]\n",
        "y_pred_gbr = gbr.predict(x0)[0]\n",
        "y_true = y_valid[idx]\n",
        "\n",
        "print(\"Validation sample index:\", idx)\n",
        "print(\"x:\", X_valid[idx])\n",
        "print(f\"True target:        {y_true:.3f}\")\n",
        "print(f\"LinearRegression:   {y_pred_lin:.3f}\")\n",
        "print(f\"GradientBoosting:   {y_pred_gbr:.3f}\")"
      ],
      "metadata": {
        "id": "nSyctLOnGB8B"
      },
      "execution_count": null,
      "outputs": []
    },
    {
      "cell_type": "code",
      "source": [],
      "metadata": {
        "id": "4iffqW1jHowe"
      },
      "execution_count": null,
      "outputs": []
    }
  ]
}