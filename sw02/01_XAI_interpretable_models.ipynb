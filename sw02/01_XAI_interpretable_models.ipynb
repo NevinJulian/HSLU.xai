{
 "cells": [
  {
   "metadata": {},
   "cell_type": "markdown",
   "source": [
    "# XAI Interpretable Models\n",
    "\n",
    "## Getting started\n",
    "\n",
    "- Prepare the following file structure:\n",
    "```text\n",
    "XAI\n",
    "|-- data\n",
    "    |-- bike.csv\n",
    "|-- 01_XAI_interpretable_models.ipynb\n",
    "|-- requirements.txt\n",
    "```\n",
    "- Setup and activate virtual environment ([tutorial](https://realpython.com/python-virtual-environments-a-primer/))\n",
    "- Install requirements: `pip install -r requirements.txt`\n",
    "- Within the `XAI` directory, start the jupyter server: `jupyter notebook`\n",
    "- Run notebook"
   ],
   "id": "4363ccee33ec555b"
  },
  {
   "cell_type": "code",
   "id": "initial_id",
   "metadata": {
    "collapsed": true
   },
   "source": [
    "import statsmodels.api as sm\n",
    "\n",
    "import matplotlib.pyplot as plt\n",
    "import seaborn as sns\n",
    "\n",
    "import numpy as np\n",
    "import pandas as pd\n",
    "\n",
    "from sklearn.model_selection import train_test_split\n",
    "from scipy.stats import norm\n",
    "\n",
    "from utils import standardize_residuals, residual_analysis_plots"
   ],
   "outputs": [],
   "execution_count": null
  },
  {
   "metadata": {},
   "cell_type": "markdown",
   "source": [
    "## Linear regression\n",
    "\n",
    "This [blog article](https://drlee.io/explainable-ai-a-deep-dive-into-linear-regression-using-explainable-ai-techniques-1315464730ab) is also an interesting reference for the interpretability of linear regression.\n",
    "\n",
    "### Linearity"
   ],
   "id": "1f0cdac9843b7fe3"
  },
  {
   "metadata": {},
   "cell_type": "code",
   "source": [
    "rng = np.random.default_rng(42)\n",
    "\n",
    "n = 80\n",
    "\n",
    "x_lin = np.linspace(0, 10, n)\n",
    "y_lin = 10 + 15 * x_lin + rng.normal(0, 15, size=n)\n",
    "X_lin = sm.add_constant(x_lin)          # add intercept\n",
    "model_lin = sm.OLS(y_lin, X_lin).fit()\n",
    "yhat_lin = model_lin.predict(X_lin)\n",
    "\n",
    "\n",
    "x_non = np.linspace(0, 10, n)\n",
    "y_non = x_non**4 + rng.normal(0, 300, size=n)\n",
    "X_non = sm.add_constant(x_non)\n",
    "model_non = sm.OLS(y_non, X_non).fit()\n",
    "yhat_non = model_non.predict(X_non)\n",
    "\n",
    "fig, axes = plt.subplots(1, 2, figsize=(12, 4))\n",
    "\n",
    "axes[0].scatter(x_lin, y_lin, alpha=0.7, edgecolor=\"white\")\n",
    "axes[0].plot(x_lin, yhat_lin, linewidth=2, color='red')\n",
    "axes[0].set_title(\"Linearity holds\")\n",
    "axes[0].set_xlabel(\"x\")\n",
    "axes[0].set_ylabel(\"y\")\n",
    "\n",
    "axes[1].scatter(x_non, y_non, alpha=0.7, edgecolor=\"white\")\n",
    "axes[1].plot(x_non, yhat_non, linewidth=2, color=\"red\")\n",
    "axes[1].set_title(\"Linearity violated\")\n",
    "axes[1].set_xlabel(\"x\")\n",
    "\n",
    "plt.tight_layout()"
   ],
   "id": "b5565a57ff603cfe",
   "outputs": [],
   "execution_count": null
  },
  {
   "metadata": {},
   "cell_type": "markdown",
   "source": "### Confidence interval",
   "id": "36c7d609638a69dd"
  },
  {
   "metadata": {},
   "cell_type": "code",
   "source": [
    "# Define range for standard normal\n",
    "x = np.linspace(-4, 4, 500)\n",
    "y = norm.pdf(x)\n",
    "\n",
    "# Critical value for 95% CI (two-sided)\n",
    "z_crit = norm.ppf(0.975)\n",
    "\n",
    "fig, ax = plt.subplots(figsize=(8, 4))\n",
    "\n",
    "# Plot normal curve\n",
    "ax.plot(x, y, 'k', linewidth=2)\n",
    "ax.fill_between(x, y, 0, where=(x <= -z_crit), color=\"red\", alpha=0.4, label=\"2.5%\")\n",
    "ax.fill_between(x, y, 0, where=(x >= z_crit), color=\"red\", alpha=0.4)\n",
    "ax.fill_between(x, y, 0, where=(x > -z_crit) & (x < z_crit), color=\"skyblue\", alpha=0.4, label=\"95%\")\n",
    "\n",
    "# Mark critical values\n",
    "ax.axvline(-z_crit, color=\"red\", linestyle=\"--\")\n",
    "ax.axvline(z_crit, color=\"red\", linestyle=\"--\")\n",
    "\n",
    "# Labels\n",
    "ax.set_title(\"Critical values for 95% Confidence Interval\", fontsize=12)\n",
    "ax.set_xlabel(\"Z\")\n",
    "ax.set_ylabel(\"Density\")\n",
    "ax.text(-z_crit, 0.02, f\"-{z_crit:.2f}\", ha='center', color='red')\n",
    "ax.text(z_crit, 0.02, f\"{z_crit:.2f}\", ha='center', color='red')\n",
    "\n",
    "ax.legend()\n",
    "plt.show()\n"
   ],
   "id": "699de7f9d5f8d52e",
   "outputs": [],
   "execution_count": null
  },
  {
   "metadata": {},
   "cell_type": "markdown",
   "source": "### Normality",
   "id": "bc143064d2ef19c9"
  },
  {
   "metadata": {},
   "cell_type": "code",
   "source": [
    "rng = np.random.default_rng(42)\n",
    "normal_residuals = rng.normal(0, 1, size=200)\n",
    "residual_analysis_plots(standardize_residuals(normal_residuals))\n",
    "non_normal_residuals = rng.standard_t(df=3, size=200)\n",
    "residual_analysis_plots(standardize_residuals(non_normal_residuals))"
   ],
   "id": "f3863e7d445d41ae",
   "outputs": [],
   "execution_count": null
  },
  {
   "metadata": {},
   "cell_type": "markdown",
   "source": "### Homoscedasticity",
   "id": "2a11df66e1374e61",
   "attachments": {
    "48fd868f-1f40-45d0-91f7-0131ded214f2.png": {
     "image/png": "[encoded data removed]"
    }
   }
  },
  {
   "metadata": {},
   "cell_type": "code",
   "source": [
    "rng = np.random.default_rng(42)\n",
    "n = 200\n",
    "x_lin = np.linspace(0, 10, n)\n",
    "normal_residuals = rng.normal(0, 1, size=n)\n",
    "heteroscedastic_residuals = rng.normal(0, 0.5 + 0.25 * x_lin)\n",
    "\n",
    "fig, axes = plt.subplots(1, 2, figsize=(12, 4), sharey=True)\n",
    "\n",
    "axes[0].scatter(x_lin, normal_residuals, alpha=0.7, edgecolor=\"white\")\n",
    "axes[0].set_title(\"Homoscedastic residuals\")\n",
    "\n",
    "axes[1].scatter(x_lin, heteroscedastic_residuals, alpha=0.7, edgecolor=\"white\")\n",
    "axes[1].set_title(\"Heteroscedastic residuals\")\n",
    "\n",
    "plt.tight_layout()\n"
   ],
   "id": "5ca6b9cf563aa949",
   "outputs": [],
   "execution_count": null
  },
  {
   "metadata": {},
   "cell_type": "markdown",
   "source": "### Case study - Predicting bike rentals",
   "id": "91b55a47a744e234"
  },
  {
   "metadata": {},
   "cell_type": "code",
   "source": [
    "bike = pd.read_csv('data/bike.csv')\n",
    "bike_train, bike_test = train_test_split(bike, test_size=1/3, random_state=42)\n",
    "bike_train.head()"
   ],
   "id": "457b75f2e7538b38",
   "outputs": [],
   "execution_count": null
  },
  {
   "metadata": {},
   "cell_type": "code",
   "source": [
    "feature_cols = ['season','holiday', 'workday', 'weather', 'temp', 'hum', 'windspeed', 'cnt_2d_bfr']\n",
    "target_col = 'cnt'\n",
    "X = bike_train[feature_cols]\n",
    "y = bike_train[target_col]\n",
    "X = pd.get_dummies(X, columns=['season'], drop_first=True)\n",
    "X['holiday'] = X['holiday'].apply(lambda x: x == 'Y')\n",
    "X['workday'] = X['workday'].apply(lambda x: x == 'Y')\n",
    "X['weather'] = X['weather'].apply(lambda x: x=='GOOD')\n",
    "X = X.astype(\"float64\")\n",
    "X.head()"
   ],
   "id": "46df184bf2cd4424",
   "outputs": [],
   "execution_count": null
  },
  {
   "metadata": {},
   "cell_type": "markdown",
   "source": "### Feature analysis",
   "id": "82899a9e578076fa"
  },
  {
   "metadata": {},
   "cell_type": "code",
   "source": [
    "sns.heatmap(X.corr(), cmap=\"coolwarm\", fmt=\".1f\", vmin=-1, vmax=1,annot=True)\n",
    "ticks = plt.xticks(rotation=45, ha='right')"
   ],
   "id": "37f9986c9c78a408",
   "outputs": [],
   "execution_count": null
  },
  {
   "metadata": {},
   "cell_type": "markdown",
   "source": "### Fit linear regression model",
   "id": "bb0d089ec8b533fe"
  },
  {
   "metadata": {},
   "cell_type": "code",
   "source": [
    "X = sm.add_constant(X)    # add intercept\n",
    "model = sm.OLS(y, X).fit()\n",
    "print(model.summary())"
   ],
   "id": "ea5f3ee196a7314f",
   "outputs": [],
   "execution_count": null
  },
  {
   "metadata": {},
   "cell_type": "markdown",
   "source": "### Residual analysis",
   "id": "717ecd0a5deee6c3"
  },
  {
   "metadata": {},
   "cell_type": "code",
   "source": "residual_analysis_plots(standardize_residuals(model.resid), model.fittedvalues)",
   "id": "38b9556d9a80d99c",
   "outputs": [],
   "execution_count": null
  },
  {
   "metadata": {},
   "cell_type": "markdown",
   "source": "### Feature importance",
   "id": "e732d6d6971cb25c"
  },
  {
   "metadata": {},
   "cell_type": "code",
   "source": [
    "t_statistic = model.tvalues[1:] # exclude the constant\n",
    "abs_t_statistic = abs(t_statistic)\n",
    "\n",
    "plt.figure(figsize=(10, 5))\n",
    "plt.bar(X.columns[1:], abs_t_statistic)\n",
    "\n",
    "plt.ylabel('Absolute T-Statistic',size=15)\n",
    "ticks = plt.xticks(rotation=45, ha='right')"
   ],
   "id": "e8319b6d15100284",
   "outputs": [],
   "execution_count": null
  },
  {
   "metadata": {},
   "cell_type": "markdown",
   "source": "### Weight plot",
   "id": "84b16491fe46ca36"
  },
  {
   "metadata": {},
   "cell_type": "code",
   "source": [
    "coefficients = model.params[1:][::-1]\n",
    "se = model.bse[1:][::-1]\n",
    "features = X.columns[1:][::-1]\n",
    "\n",
    "plt.figure(figsize=(10, 6))\n",
    "\n",
    "plt.axvline(x=0, color='tab:red', linestyle='--')\n",
    "plt.errorbar(coefficients,\n",
    "             features,\n",
    "             xerr=se*1.96,      # 95% CI\n",
    "             fmt='o',\n",
    "             capsize=5)\n",
    "plt.title('Feature Weights with 95% Confidence Intervals')"
   ],
   "id": "3051f30d903c90a6",
   "outputs": [],
   "execution_count": null
  },
  {
   "metadata": {},
   "cell_type": "markdown",
   "source": "### Effect plot",
   "id": "e93d30069006e447"
  },
  {
   "metadata": {},
   "cell_type": "code",
   "source": [
    "feature_effects = X * model.params\n",
    "\n",
    "# Combine feature effects for related features\n",
    "feature_effects['season'] = feature_effects['season_SPRING'] + feature_effects['season_SUMMER'] + feature_effects['season_WINTER']\n",
    "feature_effects.drop(['const','season_SPRING','season_SUMMER','season_WINTER'],axis=1,inplace=True)\n",
    "\n",
    "plt.figure(figsize=(12, 7))\n",
    "plt.axvline(x=0, color='tab:red', linestyle='--')\n",
    "sns.boxplot(data=feature_effects, orient=\"h\", color=\"tab:Blue\")\n",
    "plt.xlabel(\"Effect on bike rentals\")\n",
    "plt.title(\"Feature Effects\")"
   ],
   "id": "fb16e406c01127d9",
   "outputs": [],
   "execution_count": null
  },
  {
   "metadata": {},
   "cell_type": "markdown",
   "source": "### Individual effect plot",
   "id": "357ad61cad241580"
  },
  {
   "metadata": {},
   "cell_type": "code",
   "source": [
    "plt.figure(figsize=(12, 7))\n",
    "plt.axvline(x=0, color='tab:red', linestyle='--')\n",
    "sns.boxplot(data=feature_effects, orient=\"h\", color=\"tab:Blue\")\n",
    "plt.xlabel(\"Effect on bike rentals\")\n",
    "\n",
    "idx = 42  # Any valid index in your dataset\n",
    "ind_feature_effect = X.iloc[idx] * model.params\n",
    "\n",
    "ind_feature_effect['season'] = ind_feature_effect['season_SPRING'] + ind_feature_effect['season_SUMMER'] + ind_feature_effect['season_WINTER']\n",
    "ind_feature_effect.drop(['const','season_SPRING','season_SUMMER','season_WINTER'],inplace=True)\n",
    "\n",
    "for i, feature in enumerate(ind_feature_effect):\n",
    "    plt.scatter(feature, i, c='tab:red', marker='x', s=100, zorder=10)\n",
    "\n",
    "plt.title(f\"Individual feature effects for sample #{idx}: predicted {int(model.fittedvalues.iloc[idx])} bikes (target {y.iloc[idx]})\")"
   ],
   "id": "aa5babbd9d6db7b9",
   "outputs": [],
   "execution_count": null
  },
  {
   "metadata": {},
   "cell_type": "code",
   "source": "",
   "id": "fa7924966c847546",
   "outputs": [],
   "execution_count": null
  }
 ],
 "metadata": {
  "kernelspec": {
   "display_name": "Python 3",
   "language": "python",
   "name": "python3"
  },
  "language_info": {
   "codemirror_mode": {
    "name": "ipython",
    "version": 2
   },
   "file_extension": ".py",
   "mimetype": "text/x-python",
   "name": "python",
   "nbconvert_exporter": "python",
   "pygments_lexer": "ipython2",
   "version": "2.7.6"
  }
 },
 "nbformat": 4,
 "nbformat_minor": 5
}
